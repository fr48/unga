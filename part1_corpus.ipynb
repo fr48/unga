{
 "cells": [
  {
   "cell_type": "markdown",
   "metadata": {},
   "source": [
    "# Classifying the Digital Deciders\n",
    "\n",
    "Fahmida Y Rashid (fr48)\n",
    "\n",
    "### Introduction to Natural Language Processing\n",
    "\n",
    "_The Choice Between an Open Internet and a Sovereign One_\n",
    "\n",
    "On the international stage, there are two visions of the Internet: one that sees the Internet as open and free for all ideas, and the other that sees the Internet that should be restricted to within their boundaries, to restrict ideas only to \"approved\" ones. The United States and many other Western countries support the idea of an open Internet. Countries that prefer to restrict speech or monitor citizens, such as Russia and China, support what's called the \"sovereign\" Internet.\n",
    "\n",
    "*Digital Deciders* is a term used by New America (https://www.newamerica.org/cybersecurity-initiative/reports/digital-deciders/analyzing-the-clusters) to refer to countries that have not yet picked a side. We apply natural language processing tools on General Debate speeches made in the United Nations General Assembly from 1970 to 2018 to determine which worldview the Digital Deciders are more likely to lean towards.\n",
    "\n",
    "[Project on GitHub](https://github.com/fr48/unga)\n",
    "\n",
    "[Story on GitHub](https://fr48.github.io/prtfl)"
   ]
  },
  {
   "cell_type": "markdown",
   "metadata": {},
   "source": [
    "## Part One: Creating the Corpus\n",
    "\n",
    "Before I can do any comparisons, I have to create the corpus of relevant speeches. At first, I began with cybersecurity-related terms, and then realized that doesn't make sense. Most countries who have made their position clear are the ones talking about security (to convince others). And the idea of voting with your friends means you are looking for other commonalities, such as economics and politics. So I created three different corpuses (corpi?) to try the analysis to see what is the most relevant.\n",
    "\n",
    "### Looking for Relevant Speeches\n",
    "\n",
    "The first thing I did was to use regexp and grep to look for cyber-related terms in files. The related terms for cybersecurity were: cyber, privacy, security, internet, and hack `[Cc]yber\\w+|[Pp]rivacy|[Ss]ecurity|[Ii]nternet|[Hh]ack`\n",
    "\n",
    "The second thing I did was to use regexp and grep to look for economics-related terms. This resulted in a much larger set of files. The related terms for economics were: `[Ee]conom|[Dd]evelop|[Ii]nvest|[Ii]nfrastructure|[Ss]oci|[Ss]ecurity`\n",
    "\n",
    "The third thing was to look for politics-related terms, which returned an even larger set of files. The related terms for politics were: `[Ss]overeign|[Dd]emocrat|[Ss]tability|[Cc]ooperation|[Ss]ecurity`. Values for\n",
    "\"peace and security\" and \"international security\" are expected to be high because everyone says them, so I would have to take that into consideration when comparing.\n",
    "\n",
    "I then read in the files that contained the desired words and ran them through the TF/IDF."
   ]
  },
  {
   "cell_type": "code",
   "execution_count": 1,
   "metadata": {},
   "outputs": [
    {
     "name": "stderr",
     "output_type": "stream",
     "text": [
      "[nltk_data] Downloading package stopwords to /home/fyr/nltk_data...\n",
      "[nltk_data]   Package stopwords is already up-to-date!\n"
     ]
    }
   ],
   "source": [
    "#processing data \n",
    "import pandas as pd\n",
    "import re\n",
    "\n",
    "#nltk \n",
    "from nltk import sent_tokenize\n",
    "from nltk import word_tokenize\n",
    "from nltk.corpus import stopwords\n",
    "from string import punctuation\n",
    "\n",
    "import nltk\n",
    "nltk.download('stopwords')\n",
    "\n",
    "# feature/text extractions\n",
    "from sklearn.feature_extraction.text import CountVectorizer\n",
    "from sklearn.feature_extraction.text import TfidfTransformer\n",
    "from sklearn.feature_extraction.text import TfidfVectorizer"
   ]
  },
  {
   "cell_type": "markdown",
   "metadata": {},
   "source": [
    "### 1. Cybersecurity-related speeches\n",
    "\n",
    "* I decided to use regexp on the command line.\n",
    "* running `grep -E '[Cc]yber\\w+|[Pp]rivacy|[Ss]ecurity|[Ii]nternet|[Hh]ack' */*` returned all the files that seemed to be talking about cybersecurity.\n",
    "* The resulting filenames are stored in `cybersecurity_speeches.csv`\n",
    "* I run TF/IDF to check the files"
   ]
  },
  {
   "cell_type": "code",
   "execution_count": 2,
   "metadata": {},
   "outputs": [],
   "source": [
    "# all the files for cybersecurity-related speeches\n",
    "file_list = []\n",
    "file_name = \"data/cybersecurity_speeches.csv\"\n",
    "with open(file_name) as f_input:\n",
    "    file_list = f_input.read().split('\\n')"
   ]
  },
  {
   "cell_type": "code",
   "execution_count": 3,
   "metadata": {},
   "outputs": [
    {
     "data": {
      "text/plain": [
       "['I \\nwish to convey my greetings to the Secretary-General \\nand all the Presidents, Heads of State, delegations and \\ninternational organizations from across the world. I \\nconvey also my special greetings to those attending this \\nannual general debate of the General Assembly.\\n\\nWe are here once again, as usual, to share \\nexperiences relating to leadership and to work for the \\nsake of life, humanity, equality and social justice. But \\nwe are also here to express our profound differences as \\nconcerns life, peace and democracy. Over the past few \\ndays I have been listening to the statements made by \\ncertain Powers, which leave a lot to be desired in terms \\nof liberty, equality, dignity and sovereignty.\\n\\nThanks to the awareness of the Bolivian people, I \\nhave now held the presidency for almost eight years. In \\nthat time — despite the economic and financial crises in \\nsome so-called developed, industrialized and, I would \\neven say, even exaggeratedly industrialized countries, \\nbecause some Powers industrialize simply to put an end \\nto life — we in Bolivia have an economic growth rate of \\n4.8 per cent, on average. Previously it was just over 2 per \\ncent under the economic policies of the free market and \\nneoliberalism. This year the economic growth rate is \\nestimated at 6 per cent, at least, so we are doing well. \\n\\nI would like to point out that thanks to that economic \\ngrowth, in the context of the Millennium Development \\nGoals (MDGs) we have reduced poverty; we have met \\nthe MDG of reducing poverty and extreme poverty. \\nUnited Nations data for 2011 indicates that that year \\n1 million Bolivian men and women entered the middle \\nclass. Bolivia has 10 million inhabitants, so that means \\nthat 10 per cent of Bolivia’s inhabitants improved \\ntheir economic status. The rate of undernutrition for \\nchildren under the age of 5 has decreased even more \\nthan required by the related Millennium Development \\nGoal. The literacy-rate goal for people between 15 and \\n24 years of age was met, and UNESCO declared Bolivia \\na country free of illiteracy thanks to the cooperation of \\nCuba and Venezuela, which have been working with us \\nsince 2006-2007.\\n\\nThe Goal on coverage in terms of maternal health \\nhas been reached, and maternal and child mortality has \\ndecreased. Thanks to that economic growth we have \\nbeen able to create vouchers for pregnant women and \\nfor children under 2 years of age, which has made \\npossible a decrease in maternal and child mortality. \\nCoverage in terms of potable water has increased. For \\nexample, we created a programme entitled “My water \\n(more investment for water)”. I must thank the Andean \\nDevelopment Corporation and the Inter-American \\nDevelopment Bank for their contributions. With their \\nfunding we put together “My water” I and II, and we \\nare now on the third programme, with $300,000 per \\nmunicipality in rural areas. That has made it possible \\nfor us to provide some municipalities with 100 per cent \\ncoverage in terms of potable water.\\n\\nI have just come from a major event in the department \\nof Santa Cruz, where I visited several municipalities. \\nIn two of them, the mayors — who are not from the \\nparty in power but from other parties — told me that \\n“My water” III will result in 100 per cent of the local \\npopulation having drinking water. We have made \\nadvances in that area. Investment in water is a blessing \\nfor life. It means minimizing disease, because potable \\nwater helps people avoid contracting diseases. \\n\\nI would like all here to know that we have been able \\nto achieve this thanks to a State that lives in conditions \\nof sovereignty and dignity. Why am I saying this? \\nBecause previously, politically we were subject to the \\nAmerican empire. The embassies of the United States \\ndecided who would be minister. Economically, we were \\nsubject to the International Monetary Fund. From the \\ntime we arrived, we have said “Enough!” to submitting \\nto international organizations and to the United States \\nembassy. Previously, for any loan, the International \\nMonetary Fund set conditionalities, blackmailing the \\nvarious Governments. Those conditionalities involved \\nour giving up our natural resources to transnational \\ncompanies, so that Bolivia would privatize basic \\nservices. But basic services are a human right and \\ncannot be private property. So when we freed ourselves \\npolitically and economically, we started to do better.\\n\\nOne of the policies we adopted was to nationalize \\nhydrocarbons — gas and oil. I want the Assembly to \\nknow, just to share a small experience, that previously \\nState contracts with transnational oil companies stated \\nthat the bearer acquired the right to the land at the mouth \\nof the well. When union leaders asked Governments \\nwhy the gas and oil were not the property of Bolivians, \\nthey told us that as long as they were underground they \\nbelonged to the Bolivians, but once they were out of the \\nground that was no longer the case. They invented this \\ntitle business for the land at the mouth of the well. \\n\\n\\n\\x0c\\nIn addition, 82 per cent of the benefits went to \\ntransnationals, especially in mega-oilfields, and 18 per \\ncent to Bolivians. It was looting, it was theft. But since \\nwe nationalized hydrocarbons, I must say that we \\nhave really begun to improve the economic situation \\nand the social conditions in our country. Just one \\nexample: oil income in 2005, before I was President, \\nwas $300 million. This year, thanks to nationalization \\nand the fight waged by social movements, oil sales will \\ntotal more than $5 billion. Last year we almost reached \\n$5 billion. That figure continues to grow with new \\ninvestments, and today we have reached the stage of \\ngiving added value to those natural resources.\\n\\nAs the Assembly is aware, I am not an expert in \\npolitics or in economic matters. But I am here at the \\nrequest of the Bolivian people, learning daily about the \\nneeds, problems and demands of my people, the people \\nof Bolivia.\\n\\nI would therefore also like to say that this joint work \\nwith the social movements, which are the organized \\nrepresentatives of the people, is going well. I would \\nlike the United Nations and the Secretary-General to \\nknow that we have issued a directive and are working \\non the patriotic agenda for 2025. What exactly is that \\nagenda about? As Bolivia was founded in 1825, the year \\n2025 will be our bicentennial as a republic, while we \\nare now a plurinational State. We are working with all \\nsocial movements and authorities, be they local mayors \\nor provincial Governments, to establish a medium- and \\nlong-term plan that will make it possible to guarantee a \\nfuture for the generations to come.\\n\\nBesides local issues, there are also pending regional \\nissues, such as the one between Bolivia and Chile on \\nsovereign access to the Pacific Ocean. An invasion \\nbegan on 14 February 1879, which on 23 March of \\nthe same year gave rise to a limited resistance. Who \\ninvaded us? It was the Chilean oligarchy of the time, \\nalong with British companies. We lost our access to the \\nsea, and many meetings have been subsequently held \\non the issue. An unfair treaty was imposed on us, and it \\nwas not observed. \\n\\nI want the Assembly to be aware of the following. \\nIn a number of meetings with former Presidents and \\nwith the latest brotherly President of Chile, we have \\ntried to reach an understanding. However, there has \\nnever been an official proposal to resolve the issue of \\nthe Bolivian people’s irrevocable right to return to the \\nPacific with sovereignty. \\n\\nWhat did the President of Chile say in September \\n2010 when he addressed the General Assembly here \\nin New York (see A/65/PV.12)? He said that treaties \\nwere inviolable and they must not be touched. On \\n28 January 2013, during the summit of the Community \\nof Latin America and the Caribbean States (CELAC) \\nin Santiago, President Piñera Echeñique said that of \\ncourse treaties could be perfected. First, he said they \\nwere untouchable, and then he said they could be \\nperfected. That shows that this issue is on his mind and \\nthat it needs to be resolved. \\n\\nOn 17 December 2012, Piñera Echeñique publicly \\nstated that Chile would ensure respect not only for the \\ntreaties it had signed, but also its sovereignty, with \\nall the strength in the world. But in January at the \\nCELAC summit President Piñera Echeñique said that \\nsovereignty could not be touched unless economic \\ninterests were at stake. On 22 September 2011, at the \\nGeneral Assembly President Piñera Echeñique said \\nthat there were no ongoing territorial issues between \\nChile and Bolivia (see A/66/PV.15). However, on \\n2 February 2013, in an interview with La Tercera, a \\nChilean newspaper, he recognized the following: Chile \\nhas offered Bolivia autonomy in a territorial enclave. In \\nother words, he is trying to resolve the issue. But that \\nproposal has never been made official. \\n\\nThere is a fourth contradiction. On 11 November \\n2012, at the Ibero-American Summit held in Cadiz, \\nSpain, the President of Chile said that Chile would \\ndemand that a valid treaty that was still in force — the \\ntreaty of 1904 — be respected, and that any conversation \\nabout the matter must be bilateral in nature: it did not \\nbelong in a multilateral forum such as that in which we \\nare participating today. \\n\\nWhat did the President of Chile say on 2 February \\n2013? He said that the possibility of a gateway to the \\nsea without sovereignty, north of Arica, will come to an \\nend if Peru won at The Hague. Another contradiction: \\nin June 2013, President Sebastián Piñera Echeñique \\nsaid that Chile had the right to defend its territory, \\nsea and sovereignty with strength and conviction and \\nthat Chile was a country that would never bend in the \\nlegitimate defence of its territory. In June, he said \\nthat Chile would not cede to the Bolivian position \\nwhile President Morales continued to belittle him. On \\n7 September 2013, he said that, naturally, they would \\nrespect the ruling from The Hague. When it came to \\nthe ruling from The Hague, they were a country that \\nrespected rulings. \\n\\n\\n\\x0c\\nI simply wanted to state that to avoid conflict. \\nSince its foundation as a plurinational State, Bolivia has \\nbeen by nature a peaceful State. With all due respect, \\nI would like to inform members that we have turned to \\ninternational courts. We have requested the International \\nCourt of Justice to declare that the Republic of Chile \\nhas an obligation to effectively negotiate, in a timely \\nfashion and in good faith, sovereign access to the Pacific \\nOcean in order to re-establish Bolivia’s past, present \\nand future rights to the sea. I want members to be aware \\nthat this request cannot and should not be interpreted as \\nan act of hostility. On the contrary, it is a demonstration \\nof Bolivia’s respect and confidence in the mechanisms \\nfor the peaceful settlement of international disputes. \\n\\nMembers cannot imagine how much damage we \\nhave suffered, economically and geographically, or the \\ndamage that has been done to the people of Bolivia and \\nto our past and future generations, by the 1879 invasion. \\nOur grandparents continue to ask us when we are going \\nto go back to the sea, because Bolivia was born with an \\noutlet to the Pacific Ocean. So that everyone is aware: \\nwe are seeking a peaceful solution to this dispute. \\n\\nWe have heard the various statements made over \\nthe past few days. One cannot listen to every single one \\nof them, but I want to say that, while we are working \\nto eliminate extreme poverty, we, the Heads of State \\nand Government, are also working for peace with social \\njustice. Nevertheless, a handful of Powers promote \\nwars, armed conflict and military intervention without \\nrespecting even international organizations. \\n\\nWe have heard here statements about freedom, \\ndemocracy, peace, justice and security. As peoples \\nwho have been the subject of interventions and have \\nbeen exploited, marginalized and robbed of our natural \\nresources by the empires of the time, we wonder what \\ndemocracy, what peace and what social justice some \\nPresidents who come here are talking about. We witness \\nPresidents and their retinues blocking airspace and not \\nproviding guarantees of our attendance to this forum, \\nfor example. How can they speak of democracy, when \\nthe spy services of the United States violate human \\nrights and the privacy and security of other States while \\nusing private companies? It turns out that they spy not \\nonly on democratic Governments, but even on their own \\nallies, their own citizens and the United Nations itself. \\nWell, fine, let them spy on us anti-imperialist Presidents \\nand Governments. But spying on the United Nations? \\nSpying on their allies? I feel that there is a great deal of \\noverweening arrogance towards humankind.\\n\\nThat is why we continue to speak out. Not only \\ndo they spy, they also hatch coups d’état. What peace \\ncan we speak of when military spending sacrifices the \\nhuman rights of our peoples? I would like to ask the \\npeople of the United States: How is it possible, when \\nthere are so many people out of work, for their country’s \\nGovernment and President to spend $700 billion on \\nthe military and espionage annually, when there are \\nso many of our brothers in the United States who are \\nhomeless and jobless and without an education? One \\ncannot understand how that country can spend so much \\nmoney interfering with other countries while leaving \\nits own unprovided for.\\n\\nThey talk to us of human rights while torture is \\nbeing carried out in the prisons of Guantánamo and \\non military bases in the Middle East, and while union \\nand political leaders who do not share imperialist \\nand capitalist views are also tortured. I would like to \\nsay to the United States that it must not believe it is \\nmaster of the world. It is mistaken. Furthermore, it \\nsigns agreements yet refuses to sign some of the most \\nimportant treaties in the world. It does not respect \\nUnited Nations resolutions.\\n\\nThe security of the empire and the fight against \\nterrorism have become the biggest excuse and tool \\nfor unilateral military intervention. Terrorism cannot \\nbe combated through more military spending and \\ninterventions or the training of military forces. As \\nfar as I know, the way to fight terrorism is with social \\npolicies, not military bases; with religious tolerance, \\nmore democracy, more equality of justice and more \\neducation. \\n\\nWhat country is free from problems? Of course \\nthere are differences. The best thing to do is to provide \\nmeans, even if not all our Governments have the same \\neconomic policies. Capitalism wants to emerge from its \\ncrisis through war and armed intervention. We must ask \\nourselves who benefits from the wars. Who distributes \\nthe natural resources after an intervention? Whose \\nhands do they end up in, once countries are bombed? \\nWho is really governing in the United States, I wonder? \\nIs it its citizens, or the companies that promote wars? \\nFrom outside, at least — I am not an ambassador living \\nin the United States — what we see is that those who \\nfinance political and election campaigns are bankers \\nand big businessmen, and they are the ones setting \\npolicy.\\n\\nThose who govern cannot be mistaken or confused \\nabout the conflict in Syria. Naturally, we are against \\n\\n\\n\\x0c\\nthe use of chemical weapons and weapons of mass \\ndestruction. But who possesses the greatest nuclear \\narsenal? Who invented chemical weapons? Who \\nindustrialized those weapons that end human lives? In \\nmy region, at least, things are perfectly clear. We know \\nwhose hands they are in, where they come from and \\nwho produces them. \\n\\nDemocracies do not wage war. What we are seeing \\nis that those who make the decisions about wars are the \\narms industry, the financial system and oil companies. \\nPlutocracy has become a substitute for democracy. The \\nGovernment of the rich and powerful decides the fate of \\nthe world. We are facing a new moment in the imperial \\ngeopolitical disposition — and I do not wish to revisit \\nhow Latin America and the Caribbean, like Africa and \\nthe Middle East, were at one time carved up by various \\nimperial Powers, who were interested not in resolving \\nissues of poverty, democracy and equality but rather \\nin those countries’ natural resources — and now, once \\nagain, those Powers wish to divide it all up through \\nmilitary intervention and with military bases.\\n\\nAnother subject being debated is the colonization \\nof space, as we have seen in recent years. Those who \\nbelieve they are the masters of the world have told \\nus that their power has no limits and that they can \\nintervene wherever they feel like. Again, I wonder what \\nthe United Nations is for. What do we have treaties and \\nconventions for? What use is multilateralism? Human \\nmultilateralism we welcome; inhuman interventionism \\nwill be combated by people all over the world. I believe \\nthat as a union leader and as someone from one of the \\nmost humiliated sectors in the history of Latin America, \\nthe indigenous peasant peoples.\\n\\nWar is a business for capitalism. There can be no \\npeace without justice; there can be no equality as long \\nas the business of war has pride of place. It starts and \\nwages wars for its businesses. That is why I believe it is \\nimportant at this event to consider such issues in depth.\\n\\nAnother instrument of domination is the fight \\nagainst drug trafficking. But I have to say that despite \\nthe efforts of the Bolivian people and Government, \\nthere are certain Powers that do not shoulder their \\nresponsibilities in combating the traffic in drugs, \\nbecause the drug market is in the capitalist countries. \\nSince we got rid of the Drug Enforcement Agency \\n(DEA) and launched our own national policy — and \\nthanks to some of our neighbours, such as Argentina, \\nBrazil and Chile, to which I am grateful for their joint \\nefforts — we have seen improvements and a better way \\nof fighting drug trafficking than the way imposed by \\nthe DEA and the United States. I welcome the fact that \\nthe United Nations has acknowledged the decrease in \\ndrug trafficking in Bolivia, but it has not been certified \\nby the Government of the United States. Who should \\nwe believe, the United States or the United Nations? I \\nleave it up to the Assembly.\\n\\nI have felt somewhat insecure when it comes to \\nvisiting the United Nations in New York, which is \\nwhy we should think seriously about changing the \\nlocation of the Headquarters of the Organization. The \\nHeadquarters of the United Nations should be in the \\nterritory of a State that has ratified all the treaties \\nadopted by the United Nations. As the Assembly is \\naware, the Government has never ratified the treaties on \\nhuman rights or the rights of Mother Earth. They do not \\nguarantee us visas or overflights. I offer my solidarity \\nwith my friend Nicolás Maduro Moros, President of \\nVenezuela. How can we be sure that a meeting of the \\nUnited Nations here in New York is secure? Perhaps \\nsome of us do, but those of us who do not share the \\nviews of imperialism and capitalism feel completely \\ninsecure. \\n\\nI would just like to say, though not out of fear, that \\nwe should not be complicit in such an arrogant attitude \\nto the peoples of the world. How can we genuinely \\nbelieve in the United Nations if we do not respect \\nresolutions — for example, those ending the economic \\nblockade of Cuba. There are only two or three countries \\nthat do not vote to end it. Most of us welcome it and \\nvote for the resolution every time. But if it is not \\nimplemented and not respected, then why are we here \\nat the United Nations?\\n\\nFurthermore, I wish to inform the Assembly \\nthat everyone knows that the United States harbours \\nterrorists, criminals and the corrupt. They escape \\nfrom Bolivian justice and arrive here. The United \\nStates Government is not assisting in the fight against \\ncorruption. What kind of an agreement could we then \\nhave in the fight against corruption? \\n\\nBeyond that, the United States accuses the \\nGovernments of other countries. It accuses Cuba, of \\npromoting terrorism. How can Cuba do that? Perhaps it \\nis due to such accusations that only 60 or 70 Presidents, \\nof the more than 190, have come here. I feel that such \\npolicies scare off Presidents. Who will come next year \\nto vote, when resolutions are never respected? \\n\\n\\n\\x0c\\nThat reason, and many others, should encourage us \\nto consider changing the Headquarters of the United \\nNations. I do not expect it to be Bolivia, or South \\nAmerica. There are countries that have ratified all of the \\nhuman rights treaties. That is where the Headquarters \\nof the United Nations should be located.\\n\\nThere is blackmail when it comes to visas. I had to \\nwait for a visa in order to come here, and then it was \\nfor only four, five or six days — no more. What good \\nis such a visa? One has to watch the clock and when \\nto leave, because the visa will be taken from us. We \\nare being threatened, intimidated and blackmailed with \\nvisas.\\n\\nIf the Assembly is here to seriously discuss the well-\\nbeing of humankind, perhaps my country can share \\nwith some who are present here the idea of seriously \\nconsidering establishing a tribunal of the peoples, \\nincluding major international organizations that defend \\nhuman rights, to begin an investigation of the Obama \\nGovernment. \\n\\nI was surprised by the words of United States \\nPresident Obama at the start of his term. It struck me \\nwhen he stated, “I was elected to end wars”. Those \\nwere his words, found in newspapers, on radio and on \\ntelevision. I said to myself, this fraternal President of \\nthe United States originates from a family that suffered \\nfrom discrimination like me. We are going to agree and \\nwe will put an end to war. I was deeply struck by that. \\nNow we are seeing the exact opposite. Perhaps it is due \\nto the Nobel Peace Prize. We congratulate him. In the \\nend, however, it is a Nobel Peace Prize, rather than a \\nNobel war prize. \\n\\nWhat is the basis for a trial? It certainly includes \\ncrimes against humanity and the bombing of Libya. \\nI would like to know who owned the oil in Libya \\nbeforehand? Who owns it now? Previously, at the least, \\nthe people of Libya benefited from that oil, but how is it \\nbeing managed and used now? What happened in Iraq? \\nI am convinced that behind any war or intervention, \\na plan is being devised on how to later seize the \\nnatural resources. That was our experience in Bolivia. \\nHowever, we have recovered our natural resources \\ndemocratically, without bullets but with votes, not \\nwith money but based on the awareness of the Bolivian \\npeople. \\n\\nAs for prosecuting acts of international terrorism, \\nthe financing of terrorist groups and the arming of \\nopposition forces — once I expelled the United States \\nAmbassador to Bolivia, I had no regrets. We are better \\noff now, politically and democratically. We are now \\nending our cooperation with the United States Agency \\nfor International Development, which had been plotting. \\nWe want and welcome cooperation, so long as it is \\nunconditional and free of blackmail or preconditions \\ninvolving Presidents or the privatization of natural \\nresources and basic services. \\n\\nImagine the damage inflicted on a country by \\nan economic blockade. It is the best tool of genocide. \\nTherefore, if we are truly responsible for the well-being \\nof humankind, if we are responsible for truth, justice \\nand peace, then we must organize to fight back so that \\nno president — from South America, the Middle East \\nor anywhere else in the world — will ever again cause \\nharm to life or to humankind. \\n\\nLike previous debates here — on the financial, \\nclimate, economic and food crises — the Assembly is \\nnow addressing the issue of interventionism. As long \\nas imperialism and capitalism exist, peace, justice, \\nliberty, dignity and sovereignty for the people of the \\nworld will never be possible. I am convinced of that, \\nbecause I have a little experience. We should therefore \\ncontemplate a world free of oligarchies, monarchies \\nand hierarchies, and then consider the sort of human \\norder we would want for the world.\\n\\nAll of us possess sovereignty and dignity, whether \\nwe are small and backwards — “developing”, as they \\ncall us — or whatever our situation. What damages the \\npolitical class? Sometimes it is arrogance, the abuse of \\npower and corruption. As Presidents of Governments, it \\nis our obligation to fight against such policies that cause \\nso much harm to the political class. It is our obligation \\nto change the politics. In my experience, politics is not \\nabout business or profits. It is about service, commitment \\nand extending the greatest effort for one’s people. If \\nanyone thinks that politics involves business or profit, \\nthey are wrong. Such President or Government will not \\ngo far. If a Government allows bankers, financiers or \\nmultinational corporations to govern, it is mistaken. \\nA Government must be controlled by a President who \\nhas been democratically elected by the people, with the \\nparticipation of society and for the well-being of the \\nmajority of the people. \\n\\nWe welcome the fact that private property is \\nrespected. However, it is something else when economic \\npolicy and governing are considered in favour of the \\nfew, rather than of the many. With my little bit of \\nexperience, therefore, I call on all members to fight \\n\\n\\n\\x0c\\nagainst the economic policies that cause great harm to \\nhumankind around the world. \\n\\nI reiterate that as long as imperialism and \\ncapitalism exist, the struggle will continue, the people \\nwill continue to rise up, but there will be no justice. \\nFreeing ourselves from imperialism and capitalism will \\ncertainly ensure peace and social justice and dignity \\nand sovereignty for our peoples.\\n']"
      ]
     },
     "execution_count": 3,
     "metadata": {},
     "output_type": "execute_result"
    }
   ],
   "source": [
    "# for testing, just read in one at a time.\n",
    "# will need a for loop eventually, but this is supposed to be a manual process as I am verifying each file\n",
    "file_name = \"data/\"+file_list[55]\n",
    "speeches = []\n",
    "\n",
    "with open(file_name) as f_input:\n",
    "    speeches.append(f_input.read())\n",
    "\n",
    "speeches"
   ]
  },
  {
   "cell_type": "code",
   "execution_count": 4,
   "metadata": {
    "scrolled": true
   },
   "outputs": [
    {
     "data": {
      "text/html": [
       "<div>\n",
       "<style scoped>\n",
       "    .dataframe tbody tr th:only-of-type {\n",
       "        vertical-align: middle;\n",
       "    }\n",
       "\n",
       "    .dataframe tbody tr th {\n",
       "        vertical-align: top;\n",
       "    }\n",
       "\n",
       "    .dataframe thead th {\n",
       "        text-align: right;\n",
       "    }\n",
       "</style>\n",
       "<table border=\"1\" class=\"dataframe\">\n",
       "  <thead>\n",
       "    <tr style=\"text-align: right;\">\n",
       "      <th></th>\n",
       "      <th>000</th>\n",
       "      <th>000 per</th>\n",
       "      <th>000 per municipality</th>\n",
       "      <th>10</th>\n",
       "      <th>10 million</th>\n",
       "      <th>10 million inhabitants</th>\n",
       "      <th>10 per</th>\n",
       "      <th>10 per cent</th>\n",
       "      <th>100</th>\n",
       "      <th>100 per</th>\n",
       "      <th>...</th>\n",
       "      <th>york</th>\n",
       "      <th>york is</th>\n",
       "      <th>york is secure</th>\n",
       "      <th>york see</th>\n",
       "      <th>york see 65</th>\n",
       "      <th>york which</th>\n",
       "      <th>york which is</th>\n",
       "      <th>état</th>\n",
       "      <th>état what</th>\n",
       "      <th>état what peace</th>\n",
       "    </tr>\n",
       "  </thead>\n",
       "  <tbody>\n",
       "    <tr>\n",
       "      <td>0</td>\n",
       "      <td>0.002128</td>\n",
       "      <td>0.002128</td>\n",
       "      <td>0.002128</td>\n",
       "      <td>0.004257</td>\n",
       "      <td>0.002128</td>\n",
       "      <td>0.002128</td>\n",
       "      <td>0.002128</td>\n",
       "      <td>0.002128</td>\n",
       "      <td>0.004257</td>\n",
       "      <td>0.004257</td>\n",
       "      <td>...</td>\n",
       "      <td>0.006385</td>\n",
       "      <td>0.002128</td>\n",
       "      <td>0.002128</td>\n",
       "      <td>0.002128</td>\n",
       "      <td>0.002128</td>\n",
       "      <td>0.002128</td>\n",
       "      <td>0.002128</td>\n",
       "      <td>0.002128</td>\n",
       "      <td>0.002128</td>\n",
       "      <td>0.002128</td>\n",
       "    </tr>\n",
       "  </tbody>\n",
       "</table>\n",
       "<p>1 rows × 8134 columns</p>\n",
       "</div>"
      ],
      "text/plain": [
       "        000   000 per  000 per municipality        10  10 million  \\\n",
       "0  0.002128  0.002128              0.002128  0.004257    0.002128   \n",
       "\n",
       "   10 million inhabitants    10 per  10 per cent       100   100 per  ...  \\\n",
       "0                0.002128  0.002128     0.002128  0.004257  0.004257  ...   \n",
       "\n",
       "       york   york is  york is secure  york see  york see 65  york which  \\\n",
       "0  0.006385  0.002128        0.002128  0.002128     0.002128    0.002128   \n",
       "\n",
       "   york which is      état  état what  état what peace  \n",
       "0       0.002128  0.002128   0.002128         0.002128  \n",
       "\n",
       "[1 rows x 8134 columns]"
      ]
     },
     "execution_count": 4,
     "metadata": {},
     "output_type": "execute_result"
    }
   ],
   "source": [
    "# create a tf/idf of these files\n",
    "\n",
    "#defining the ngram range to one word, two words, and three words\n",
    "vectorizer = TfidfVectorizer(ngram_range=(1, 3))\n",
    "\n",
    "# creating the document\n",
    "vectors = vectorizer.fit_transform(speeches)\n",
    "\n",
    "#these are all the (1,3) ngrams \n",
    "feature_names = vectorizer.get_feature_names()\n",
    "dense = vectors.todense()\n",
    "denselist = dense.tolist()\n",
    "\n",
    "# creating a dataframe with the  feature names as columns\n",
    "df = pd.DataFrame(denselist, columns=feature_names)\n",
    "df"
   ]
  },
  {
   "cell_type": "code",
   "execution_count": 5,
   "metadata": {
    "scrolled": true
   },
   "outputs": [
    {
     "data": {
      "text/html": [
       "<div>\n",
       "<style scoped>\n",
       "    .dataframe tbody tr th:only-of-type {\n",
       "        vertical-align: middle;\n",
       "    }\n",
       "\n",
       "    .dataframe tbody tr th {\n",
       "        vertical-align: top;\n",
       "    }\n",
       "\n",
       "    .dataframe thead th {\n",
       "        text-align: right;\n",
       "    }\n",
       "</style>\n",
       "<table border=\"1\" class=\"dataframe\">\n",
       "  <thead>\n",
       "    <tr style=\"text-align: right;\">\n",
       "      <th></th>\n",
       "      <th>0</th>\n",
       "    </tr>\n",
       "  </thead>\n",
       "  <tbody>\n",
       "    <tr>\n",
       "      <td>000</td>\n",
       "      <td>0.212848</td>\n",
       "    </tr>\n",
       "    <tr>\n",
       "      <td>000 per</td>\n",
       "      <td>0.212848</td>\n",
       "    </tr>\n",
       "    <tr>\n",
       "      <td>000 per municipality</td>\n",
       "      <td>0.212848</td>\n",
       "    </tr>\n",
       "    <tr>\n",
       "      <td>10</td>\n",
       "      <td>0.425696</td>\n",
       "    </tr>\n",
       "    <tr>\n",
       "      <td>10 million</td>\n",
       "      <td>0.212848</td>\n",
       "    </tr>\n",
       "    <tr>\n",
       "      <td>...</td>\n",
       "      <td>...</td>\n",
       "    </tr>\n",
       "    <tr>\n",
       "      <td>york which</td>\n",
       "      <td>0.212848</td>\n",
       "    </tr>\n",
       "    <tr>\n",
       "      <td>york which is</td>\n",
       "      <td>0.212848</td>\n",
       "    </tr>\n",
       "    <tr>\n",
       "      <td>état</td>\n",
       "      <td>0.212848</td>\n",
       "    </tr>\n",
       "    <tr>\n",
       "      <td>état what</td>\n",
       "      <td>0.212848</td>\n",
       "    </tr>\n",
       "    <tr>\n",
       "      <td>état what peace</td>\n",
       "      <td>0.212848</td>\n",
       "    </tr>\n",
       "  </tbody>\n",
       "</table>\n",
       "<p>8134 rows × 1 columns</p>\n",
       "</div>"
      ],
      "text/plain": [
       "                             0\n",
       "000                   0.212848\n",
       "000 per               0.212848\n",
       "000 per municipality  0.212848\n",
       "10                    0.425696\n",
       "10 million            0.212848\n",
       "...                        ...\n",
       "york which            0.212848\n",
       "york which is         0.212848\n",
       "état                  0.212848\n",
       "état what             0.212848\n",
       "état what peace       0.212848\n",
       "\n",
       "[8134 rows x 1 columns]"
      ]
     },
     "execution_count": 5,
     "metadata": {},
     "output_type": "execute_result"
    }
   ],
   "source": [
    "# write to file to make it easier to view. I also transpose the df for easier reading.\n",
    "df = df.T\n",
    "df[0]=df[0]*100\n",
    "df.to_csv(file_name[13:-4]+\".csv\", header=False)\n",
    "df"
   ]
  },
  {
   "cell_type": "markdown",
   "metadata": {},
   "source": [
    "Manually go through the files and make sure the files are all about cybersecurity. Use the TF/IDF scores to look at whether they were actually part of the conversation. For example, \"security\" has a high score, but most of the score is because of \"Security Council.\"\n",
    "\n",
    "I now have all the cybersecurity-related files. I am going to split them up into two groups so that I can compare to find out where the similarity is. I am grouping the countries using the [New America](https://www.newamerica.org/cybersecurity-initiative/reports/digital-deciders/analyzing-the-clusters) definitions.\n",
    "\n",
    "One thing I realized is that there are countries New America doesn't account for, so I am leaving them out right now."
   ]
  },
  {
   "cell_type": "code",
   "execution_count": 6,
   "metadata": {},
   "outputs": [],
   "source": [
    "# start again\n",
    "file_list = []\n",
    "file_name = \"data/cybersecurity_speeches.csv\"\n",
    "with open(file_name) as f_input:\n",
    "    file_list = f_input.read().split('\\n')"
   ]
  },
  {
   "cell_type": "code",
   "execution_count": 7,
   "metadata": {},
   "outputs": [],
   "source": [
    "# New America definitions\n",
    "digital = ['ALB','ARG','ARM','BOL','BIH','BWA','BRA','COL','COG','CRI',\n",
    "           'CIV','DOM','ECU','SLV','GEO','GHA','GTM','HND','IND','IDN',\n",
    "           'IRQ','JAM','JOR','KEN','KWT','KGZ','LBN','MKD','MYS','MEX',\n",
    "           'MNG','MAR','NAM','NIC','NGA','PAK','PAN','PNG','PRY','PER',\n",
    "           'PHL','MDA','SRB','SGP','ZAF','LKA','THA','TUN','UKR','URY']\n",
    "\n",
    "global_open = ['GBR','CAN','AUS','DEU','JPN','SWE','NLD','USA','NOR',\n",
    "            'FIN','CHE','EST','ESP','POL','NZL','KOR','AUT','IRL','CZE',\n",
    "            'PRT','DNK','ITA','LVA','LTU','LUX','BEL','SVN','GRC','CHL',\n",
    "            'CYP','SVK','ISR','HRV','BGR','HUN','ROU','FRA']\n",
    "               \n",
    "sovereign_controlled = ['SAU','ZWE','VEN','SWZ','CUB','IRN','DZE','LBY',\n",
    "    'QAT','TUR','ARE','BLR','RUS','CHN','KAZ','OMN','BHR','AZE','VNM',\n",
    "    'CMR','TKM','TJK','SYR','PRK','UZB','AGO','EGY']"
   ]
  },
  {
   "cell_type": "code",
   "execution_count": 8,
   "metadata": {},
   "outputs": [],
   "source": [
    "sovereigns = []\n",
    "currents = []\n",
    "deciders = []\n",
    "unknowns = []\n",
    "\n",
    "for one_file in file_list:\n",
    "    if (one_file[8:11]) in global_open:\n",
    "        currents.append(one_file)\n",
    "    elif (one_file[8:11]) in sovereign_controlled:\n",
    "        sovereigns.append(one_file)\n",
    "    elif (one_file[8:11]) in digital:\n",
    "        deciders.append(one_file)\n",
    "    else:\n",
    "        unknowns.append(one_file)"
   ]
  },
  {
   "cell_type": "markdown",
   "metadata": {},
   "source": [
    "### Prepare each corpus\n",
    "\n",
    "* Read in the files into lists using the groupings just created.\n",
    "* While it is possible to run the vectorizer without using stopwords, it is worth doing some cleanup"
   ]
  },
  {
   "cell_type": "code",
   "execution_count": 12,
   "metadata": {},
   "outputs": [],
   "source": [
    "#added curly apostrophe to the stop words list\n",
    "stop_words = stopwords.words('english') + list(punctuation) + ['’']"
   ]
  },
  {
   "cell_type": "code",
   "execution_count": 13,
   "metadata": {},
   "outputs": [],
   "source": [
    "open_internet = []\n",
    "\n",
    "for current in currents:\n",
    "    current = \"data/\"+current\n",
    "    with open(current) as f_input:\n",
    "        open_internet.append(f_input.read())\n",
    "\n",
    "text = \"\"\n",
    "for oneeach in open_internet:\n",
    "    text = oneeach+text\n",
    "    \n",
    "open_internet=[text]"
   ]
  },
  {
   "cell_type": "code",
   "execution_count": 14,
   "metadata": {},
   "outputs": [],
   "source": [
    "# Use regexp to remove numbers\n",
    "clean_quotes = []\n",
    "for x in open_internet:\n",
    "    my_text =[]\n",
    "    x = word_tokenize(x)\n",
    "    x = [w.lower() for w in x]\n",
    "    for z in x:\n",
    "        if (z not in stop_words):\n",
    "            #if re.match(r'[0-9,.]+', z) is None:\n",
    "            if len(re.findall(r'[0-9]+', z)) == 0:\n",
    "                my_text.append(z)\n",
    "    clean_quotes.append(\" \".join(my_text))\n",
    "\n",
    "#write the words back\n",
    "open_internet = clean_quotes"
   ]
  },
  {
   "cell_type": "code",
   "execution_count": 15,
   "metadata": {},
   "outputs": [],
   "source": [
    "sovereign_internet = []\n",
    "\n",
    "for sovereign in sovereigns:\n",
    "    sovereign = \"data/\"+sovereign\n",
    "    with open(sovereign) as f_input:\n",
    "        sovereign_internet.append(f_input.read())\n",
    "\n",
    "text = \"\"\n",
    "for oneeach in sovereign_internet:\n",
    "    text = oneeach+text\n",
    "    \n",
    "sovereign_internet=[text]"
   ]
  },
  {
   "cell_type": "code",
   "execution_count": 16,
   "metadata": {},
   "outputs": [],
   "source": [
    "clean_quotes = []\n",
    "for x in sovereign_internet:\n",
    "    my_text =[]\n",
    "    x = word_tokenize(x)\n",
    "    x = [w.lower() for w in x]\n",
    "    for z in x:\n",
    "        if (z not in stop_words):\n",
    "            #if re.match(r'[0-9,.]+', z) is None:\n",
    "            if len(re.findall(r'[0-9]+', z)) == 0:\n",
    "                my_text.append(z)\n",
    "    clean_quotes.append(\" \".join(my_text))\n",
    "\n",
    "#write the words back\n",
    "sovereign_internet = clean_quotes"
   ]
  },
  {
   "cell_type": "code",
   "execution_count": 51,
   "metadata": {},
   "outputs": [],
   "source": [
    "# writing these to file for safe-keeping\n",
    "pd.DataFrame(sovereign_internet).to_csv(\"output/cs_sov_corpus.csv\", header=False, index=False)\n",
    "pd.DataFrame(open_internet).to_csv(\"output/cs_op_corpus.csv\", header=False, index=False)\n",
    "\n",
    "# I need to save the deciders file for future processing\n",
    "pd.DataFrame(deciders).to_csv(\"output/cs_deciders.csv\", header=False, index=False)"
   ]
  },
  {
   "cell_type": "markdown",
   "metadata": {},
   "source": [
    "### 2. Economics-related speeches\n",
    "\n",
    "* Like the previous set, I used regexp on the command line to get all economics-related speeches. \n",
    "* Unlike the previous set, where I didn't restrict the years, economics is a fluctuating situation, so I am looking at only the last ten years of data.\n",
    "* `grep -E '[Ee]conom|[Dd]evelop|[Ii]nvest|[Ii]nfrastructure|[Ss]oci|'[Ff]ood' */*` \n",
    "* The resulting filenames are stored in `economics_speeches.csv`"
   ]
  },
  {
   "cell_type": "code",
   "execution_count": 28,
   "metadata": {},
   "outputs": [],
   "source": [
    "file_list = []\n",
    "file_name = \"data/economics_speeches.csv\"\n",
    "with open(file_name) as f_input:\n",
    "    file_list = f_input.read().split('\\n')"
   ]
  },
  {
   "cell_type": "code",
   "execution_count": 29,
   "metadata": {},
   "outputs": [],
   "source": [
    "sovereign_economies = []\n",
    "current_economies = []\n",
    "decider_economies = []\n",
    "unknown_economies = []\n",
    "\n",
    "for one_file in file_list:\n",
    "    if (one_file[8:11]) in global_open:\n",
    "        current_economies.append(one_file)\n",
    "    elif (one_file[8:11]) in sovereign_controlled:\n",
    "        sovereign_economies.append(one_file)\n",
    "    elif (one_file[8:11]) in digital:\n",
    "        decider_economies.append(one_file)\n",
    "    else:\n",
    "        unknown_economies.append(one_file)"
   ]
  },
  {
   "cell_type": "code",
   "execution_count": 30,
   "metadata": {},
   "outputs": [],
   "source": [
    "open_economy = []\n",
    "\n",
    "for current in current_economies:\n",
    "    current = \"data/\"+current\n",
    "    with open(current) as f_input:\n",
    "        open_economy.append(f_input.read())\n",
    "        \n",
    "text = \"\"\n",
    "for oneeach in open_economy:\n",
    "    text = oneeach+text\n",
    "    \n",
    "open_economy=[text]"
   ]
  },
  {
   "cell_type": "code",
   "execution_count": 31,
   "metadata": {},
   "outputs": [],
   "source": [
    "clean_quotes = []\n",
    "for x in open_economy:\n",
    "    my_text =[]\n",
    "    x = word_tokenize(x)\n",
    "    x = [w.lower() for w in x]\n",
    "    for z in x:\n",
    "        if (z not in stop_words):\n",
    "            #if re.match(r'[0-9,.]+', z) is None:\n",
    "            if len(re.findall(r'[0-9]+', z)) == 0:\n",
    "                my_text.append(z)\n",
    "    clean_quotes.append(\" \".join(my_text))\n",
    "\n",
    "#write the words back\n",
    "open_economy = clean_quotes"
   ]
  },
  {
   "cell_type": "code",
   "execution_count": 32,
   "metadata": {},
   "outputs": [],
   "source": [
    "sovereign_economy = []\n",
    "\n",
    "for sovereign in sovereign_economies:\n",
    "    sovereign = \"data/\"+sovereign\n",
    "    with open(sovereign) as f_input:\n",
    "        sovereign_economy.append(f_input.read())\n",
    "\n",
    "text = \"\"\n",
    "for oneeach in sovereign_economy:\n",
    "    text = oneeach+text\n",
    "    \n",
    "sovereign_economy=[text]"
   ]
  },
  {
   "cell_type": "code",
   "execution_count": 33,
   "metadata": {},
   "outputs": [],
   "source": [
    "clean_quotes = []\n",
    "for x in sovereign_economy:\n",
    "    my_text =[]\n",
    "    x = word_tokenize(x)\n",
    "    x = [w.lower() for w in x]\n",
    "    for z in x:\n",
    "        if (z not in stop_words):\n",
    "            #if re.match(r'[0-9,.]+', z) is None:\n",
    "            if len(re.findall(r'[0-9]+', z)) == 0:\n",
    "                my_text.append(z)\n",
    "    clean_quotes.append(\" \".join(my_text))\n",
    "\n",
    "#write the words back\n",
    "sovereign_economy = clean_quotes"
   ]
  },
  {
   "cell_type": "code",
   "execution_count": 34,
   "metadata": {},
   "outputs": [],
   "source": [
    "# writing these to file for safe-keeping\n",
    "pd.DataFrame(sovereign_economy).to_csv(\"output/ec_sov_corpus.csv\", header=False, index=False)\n",
    "pd.DataFrame(open_economy).to_csv(\"output/ec_op_corpus.csv\", header=False, index=False)\n",
    "\n",
    "# I need to save the deciders file for future processing\n",
    "pd.DataFrame(decider_economies).to_csv(\"output/ec_deciders.csv\", header=False, index=False)"
   ]
  },
  {
   "cell_type": "markdown",
   "metadata": {},
   "source": [
    "### 3. Politics-related speeches\n",
    "\n",
    "* Like the previous sets, I used regexp on the command line to get all politices-related speeches. \n",
    "* While politics isn't as fluctuating as economics, I still restricted the data to only the last ten years of data because otherwise the list was getting too long.\n",
    "* `grep -E '[Ss]overeign|[Dd]emocratic|[Ss]table|[Ss]tability|[Cc]ooperat|[Ss]ecurity' */*` \n",
    "* The resulting filenames are stored in `politics_speeches.csv`"
   ]
  },
  {
   "cell_type": "code",
   "execution_count": 22,
   "metadata": {},
   "outputs": [],
   "source": [
    "file_list = []\n",
    "file_name = \"data/politics_speeches.csv\"\n",
    "with open(file_name) as f_input:\n",
    "    file_list = f_input.read().split('\\n')"
   ]
  },
  {
   "cell_type": "code",
   "execution_count": 23,
   "metadata": {},
   "outputs": [],
   "source": [
    "sovereign_politics = []\n",
    "current_politics = []\n",
    "decider_politics = []\n",
    "unknown_politics = []\n",
    "\n",
    "for one_file in file_list:\n",
    "    if (one_file[8:11]) in global_open:\n",
    "        current_politics.append(one_file)\n",
    "    elif (one_file[8:11]) in sovereign_controlled:\n",
    "        sovereign_politics.append(one_file)\n",
    "    elif (one_file[8:11]) in digital:\n",
    "        decider_politics.append(one_file)\n",
    "    else:\n",
    "        unknown_politics.append(one_file)"
   ]
  },
  {
   "cell_type": "code",
   "execution_count": 63,
   "metadata": {},
   "outputs": [],
   "source": [
    "open_politic = []\n",
    "\n",
    "for current in current_politics:\n",
    "    current = \"data/\"+current\n",
    "    with open(current) as f_input:\n",
    "        open_politic.append(f_input.read())\n",
    "        \n",
    "text = \"\"\n",
    "for oneeach in open_politic:\n",
    "    text = oneeach+text\n",
    "    \n",
    "open_politic=[text]"
   ]
  },
  {
   "cell_type": "code",
   "execution_count": 64,
   "metadata": {},
   "outputs": [],
   "source": [
    "clean_quotes = []\n",
    "for x in open_politic:\n",
    "    my_text =[]\n",
    "    x = word_tokenize(x)\n",
    "    x = [w.lower() for w in x]\n",
    "    for z in x:\n",
    "        if (z not in stop_words):\n",
    "            #if re.match(r'[0-9,.]+', z) is None:\n",
    "            if len(re.findall(r'[0-9]+', z)) == 0:\n",
    "                my_text.append(z)\n",
    "    clean_quotes.append(\" \".join(my_text))\n",
    "\n",
    "#write the words back\n",
    "open_politic = clean_quotes"
   ]
  },
  {
   "cell_type": "code",
   "execution_count": 65,
   "metadata": {},
   "outputs": [],
   "source": [
    "sovereign_politic = []\n",
    "\n",
    "for sovereign in sovereign_politics:\n",
    "    sovereign = \"data/\"+sovereign\n",
    "    with open(sovereign) as f_input:\n",
    "        sovereign_politic.append(f_input.read())\n",
    "\n",
    "text = \"\"\n",
    "for oneeach in sovereign_politic:\n",
    "    text = oneeach+text\n",
    "    \n",
    "sovereign_politic=[text]"
   ]
  },
  {
   "cell_type": "code",
   "execution_count": 66,
   "metadata": {},
   "outputs": [],
   "source": [
    "clean_quotes = []\n",
    "for x in sovereign_politic:\n",
    "    my_text =[]\n",
    "    x = word_tokenize(x)\n",
    "    x = [w.lower() for w in x]\n",
    "    for z in x:\n",
    "        if (z not in stop_words):\n",
    "            #if re.match(r'[0-9,.]+', z) is None:\n",
    "            if len(re.findall(r'[0-9]+', z)) == 0:\n",
    "                my_text.append(z)\n",
    "    clean_quotes.append(\" \".join(my_text))\n",
    "\n",
    "#write the words back\n",
    "sovereign_politic = clean_quotes"
   ]
  },
  {
   "cell_type": "code",
   "execution_count": 67,
   "metadata": {},
   "outputs": [],
   "source": [
    "# writing these to file for safe-keeping\n",
    "pd.DataFrame(sovereign_politic).to_csv(\"output/po_sov_corpus.csv\", header=False, index=False)\n",
    "pd.DataFrame(open_politic).to_csv(\"output/po_op_corpus.csv\", header=False, index=False)\n",
    "\n",
    "# I need to save the deciders file for future processing\n",
    "pd.DataFrame(decider_politics).to_csv(\"output/po_deciders.csv\", header=False, index=False)"
   ]
  },
  {
   "cell_type": "code",
   "execution_count": null,
   "metadata": {},
   "outputs": [],
   "source": []
  }
 ],
 "metadata": {
  "kernelspec": {
   "display_name": "Python 3",
   "language": "python",
   "name": "python3"
  },
  "language_info": {
   "codemirror_mode": {
    "name": "ipython",
    "version": 3
   },
   "file_extension": ".py",
   "mimetype": "text/x-python",
   "name": "python",
   "nbconvert_exporter": "python",
   "pygments_lexer": "ipython3",
   "version": "3.7.3"
  }
 },
 "nbformat": 4,
 "nbformat_minor": 2
}
